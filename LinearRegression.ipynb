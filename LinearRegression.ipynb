{
  "nbformat": 4,
  "nbformat_minor": 0,
  "metadata": {
    "colab": {
      "name": "LinearRegression.ipynb",
      "provenance": [],
      "collapsed_sections": [
        "qMR7ilgqBn5p",
        "wYvoa6UsJ2OO"
      ]
    },
    "kernelspec": {
      "name": "python3",
      "display_name": "Python 3"
    },
    "language_info": {
      "name": "python"
    }
  },
  "cells": [
    {
      "cell_type": "markdown",
      "metadata": {
        "id": "qMR7ilgqBn5p"
      },
      "source": [
        "# Used Library\n",
        "\n"
      ]
    },
    {
      "cell_type": "code",
      "metadata": {
        "id": "KPW2raxdB1PW"
      },
      "source": [
        "import pandas as pd\n",
        "from sklearn.metrics import r2_score\n",
        "import matplotlib.pyplot as plt\n",
        "import numpy as np\n",
        "from sklearn.metrics import mean_squared_error\n",
        "from sklearn import preprocessing\n",
        "import matplotlib.pyplot as plt\n",
        "from mpl_toolkits.mplot3d import Axes3D\n",
        "from scipy.stats import zscore\n",
        "from scipy import stats"
      ],
      "execution_count": null,
      "outputs": []
    },
    {
      "cell_type": "markdown",
      "metadata": {
        "id": "wYvoa6UsJ2OO"
      },
      "source": [
        "#Importing the Dataset\n"
      ]
    },
    {
      "cell_type": "code",
      "metadata": {
        "id": "yUWFl4a2CWbb"
      },
      "source": [
        "en = pd.read_excel('energy_dataset_simplified2.xlsx')\n",
        "we = pd.read_excel('weather_features_simplified.xlsx')\n",
        "we.rename(columns={\"TIME\": \"time\"}, inplace=True)"
      ],
      "execution_count": null,
      "outputs": []
    },
    {
      "cell_type": "code",
      "metadata": {
        "id": "CpGuGtc3Fibw",
        "colab": {
          "base_uri": "https://localhost:8080/",
          "height": 206
        },
        "outputId": "f3567125-4644-484e-cce8-ca56b4575cd7"
      },
      "source": [
        "en.head()"
      ],
      "execution_count": null,
      "outputs": [
        {
          "output_type": "execute_result",
          "data": {
            "text/html": [
              "<div>\n",
              "<style scoped>\n",
              "    .dataframe tbody tr th:only-of-type {\n",
              "        vertical-align: middle;\n",
              "    }\n",
              "\n",
              "    .dataframe tbody tr th {\n",
              "        vertical-align: top;\n",
              "    }\n",
              "\n",
              "    .dataframe thead th {\n",
              "        text-align: right;\n",
              "    }\n",
              "</style>\n",
              "<table border=\"1\" class=\"dataframe\">\n",
              "  <thead>\n",
              "    <tr style=\"text-align: right;\">\n",
              "      <th></th>\n",
              "      <th>time</th>\n",
              "      <th>total load actual</th>\n",
              "      <th>price actual</th>\n",
              "    </tr>\n",
              "  </thead>\n",
              "  <tbody>\n",
              "    <tr>\n",
              "      <th>0</th>\n",
              "      <td>2015-01-01 00:00:00+01:00</td>\n",
              "      <td>25385.0</td>\n",
              "      <td>65.41</td>\n",
              "    </tr>\n",
              "    <tr>\n",
              "      <th>1</th>\n",
              "      <td>2015-01-01 01:00:00+01:00</td>\n",
              "      <td>24382.0</td>\n",
              "      <td>64.92</td>\n",
              "    </tr>\n",
              "    <tr>\n",
              "      <th>2</th>\n",
              "      <td>2015-01-01 02:00:00+01:00</td>\n",
              "      <td>22734.0</td>\n",
              "      <td>64.48</td>\n",
              "    </tr>\n",
              "    <tr>\n",
              "      <th>3</th>\n",
              "      <td>2015-01-01 03:00:00+01:00</td>\n",
              "      <td>21286.0</td>\n",
              "      <td>59.32</td>\n",
              "    </tr>\n",
              "    <tr>\n",
              "      <th>4</th>\n",
              "      <td>2015-01-01 04:00:00+01:00</td>\n",
              "      <td>20264.0</td>\n",
              "      <td>56.04</td>\n",
              "    </tr>\n",
              "  </tbody>\n",
              "</table>\n",
              "</div>"
            ],
            "text/plain": [
              "                        time  total load actual  price actual\n",
              "0  2015-01-01 00:00:00+01:00            25385.0         65.41\n",
              "1  2015-01-01 01:00:00+01:00            24382.0         64.92\n",
              "2  2015-01-01 02:00:00+01:00            22734.0         64.48\n",
              "3  2015-01-01 03:00:00+01:00            21286.0         59.32\n",
              "4  2015-01-01 04:00:00+01:00            20264.0         56.04"
            ]
          },
          "metadata": {},
          "execution_count": 3
        }
      ]
    },
    {
      "cell_type": "code",
      "metadata": {
        "id": "hm6eaFV1GpsW",
        "colab": {
          "base_uri": "https://localhost:8080/",
          "height": 206
        },
        "outputId": "b6d813fc-92a7-4271-df88-c86477955546"
      },
      "source": [
        "we.head()"
      ],
      "execution_count": null,
      "outputs": [
        {
          "output_type": "execute_result",
          "data": {
            "text/html": [
              "<div>\n",
              "<style scoped>\n",
              "    .dataframe tbody tr th:only-of-type {\n",
              "        vertical-align: middle;\n",
              "    }\n",
              "\n",
              "    .dataframe tbody tr th {\n",
              "        vertical-align: top;\n",
              "    }\n",
              "\n",
              "    .dataframe thead th {\n",
              "        text-align: right;\n",
              "    }\n",
              "</style>\n",
              "<table border=\"1\" class=\"dataframe\">\n",
              "  <thead>\n",
              "    <tr style=\"text-align: right;\">\n",
              "      <th></th>\n",
              "      <th>time</th>\n",
              "      <th>city_name</th>\n",
              "      <th>temp (K)</th>\n",
              "      <th>pressure</th>\n",
              "      <th>humidity</th>\n",
              "      <th>wind_speed</th>\n",
              "      <th>wind_deg</th>\n",
              "      <th>rain_1h</th>\n",
              "      <th>rain_3h</th>\n",
              "    </tr>\n",
              "  </thead>\n",
              "  <tbody>\n",
              "    <tr>\n",
              "      <th>0</th>\n",
              "      <td>2015-01-01 00:00:00+01:00</td>\n",
              "      <td>Majapahit</td>\n",
              "      <td>270.475</td>\n",
              "      <td>1001</td>\n",
              "      <td>77</td>\n",
              "      <td>1</td>\n",
              "      <td>62</td>\n",
              "      <td>0.0</td>\n",
              "      <td>0.0</td>\n",
              "    </tr>\n",
              "    <tr>\n",
              "      <th>1</th>\n",
              "      <td>2015-01-01 01:00:00+01:00</td>\n",
              "      <td>Majapahit</td>\n",
              "      <td>270.475</td>\n",
              "      <td>1001</td>\n",
              "      <td>77</td>\n",
              "      <td>1</td>\n",
              "      <td>62</td>\n",
              "      <td>0.0</td>\n",
              "      <td>0.0</td>\n",
              "    </tr>\n",
              "    <tr>\n",
              "      <th>2</th>\n",
              "      <td>2015-01-01 02:00:00+01:00</td>\n",
              "      <td>Majapahit</td>\n",
              "      <td>269.686</td>\n",
              "      <td>1002</td>\n",
              "      <td>78</td>\n",
              "      <td>0</td>\n",
              "      <td>23</td>\n",
              "      <td>0.0</td>\n",
              "      <td>0.0</td>\n",
              "    </tr>\n",
              "    <tr>\n",
              "      <th>3</th>\n",
              "      <td>2015-01-01 03:00:00+01:00</td>\n",
              "      <td>Majapahit</td>\n",
              "      <td>269.686</td>\n",
              "      <td>1002</td>\n",
              "      <td>78</td>\n",
              "      <td>0</td>\n",
              "      <td>23</td>\n",
              "      <td>0.0</td>\n",
              "      <td>0.0</td>\n",
              "    </tr>\n",
              "    <tr>\n",
              "      <th>4</th>\n",
              "      <td>2015-01-01 04:00:00+01:00</td>\n",
              "      <td>Majapahit</td>\n",
              "      <td>269.686</td>\n",
              "      <td>1002</td>\n",
              "      <td>78</td>\n",
              "      <td>0</td>\n",
              "      <td>23</td>\n",
              "      <td>0.0</td>\n",
              "      <td>0.0</td>\n",
              "    </tr>\n",
              "  </tbody>\n",
              "</table>\n",
              "</div>"
            ],
            "text/plain": [
              "                        time  city_name  temp (K)  ...  wind_deg  rain_1h  rain_3h\n",
              "0  2015-01-01 00:00:00+01:00  Majapahit   270.475  ...        62      0.0      0.0\n",
              "1  2015-01-01 01:00:00+01:00  Majapahit   270.475  ...        62      0.0      0.0\n",
              "2  2015-01-01 02:00:00+01:00  Majapahit   269.686  ...        23      0.0      0.0\n",
              "3  2015-01-01 03:00:00+01:00  Majapahit   269.686  ...        23      0.0      0.0\n",
              "4  2015-01-01 04:00:00+01:00  Majapahit   269.686  ...        23      0.0      0.0\n",
              "\n",
              "[5 rows x 9 columns]"
            ]
          },
          "metadata": {},
          "execution_count": 4
        }
      ]
    },
    {
      "cell_type": "code",
      "metadata": {
        "id": "4OcogvaZWoaL",
        "colab": {
          "base_uri": "https://localhost:8080/"
        },
        "outputId": "52a60865-95ef-4c5d-eac2-87af509b1269"
      },
      "source": [
        "print(len(we))\n",
        "print(len(en))"
      ],
      "execution_count": null,
      "outputs": [
        {
          "output_type": "stream",
          "name": "stdout",
          "text": [
            "178396\n",
            "35064\n"
          ]
        }
      ]
    },
    {
      "cell_type": "markdown",
      "metadata": {
        "id": "3-u5SDtCaPIM"
      },
      "source": [
        "Cut the data of the energy (2015 only)"
      ]
    },
    {
      "cell_type": "code",
      "metadata": {
        "id": "iqOsq29cWdDY",
        "colab": {
          "base_uri": "https://localhost:8080/",
          "height": 206
        },
        "outputId": "fc20d66e-7afb-48fa-bc77-6af8fe501363"
      },
      "source": [
        "ener = en.iloc[:8761]\n",
        "ener.head()"
      ],
      "execution_count": null,
      "outputs": [
        {
          "output_type": "execute_result",
          "data": {
            "text/html": [
              "<div>\n",
              "<style scoped>\n",
              "    .dataframe tbody tr th:only-of-type {\n",
              "        vertical-align: middle;\n",
              "    }\n",
              "\n",
              "    .dataframe tbody tr th {\n",
              "        vertical-align: top;\n",
              "    }\n",
              "\n",
              "    .dataframe thead th {\n",
              "        text-align: right;\n",
              "    }\n",
              "</style>\n",
              "<table border=\"1\" class=\"dataframe\">\n",
              "  <thead>\n",
              "    <tr style=\"text-align: right;\">\n",
              "      <th></th>\n",
              "      <th>time</th>\n",
              "      <th>total load actual</th>\n",
              "      <th>price actual</th>\n",
              "    </tr>\n",
              "  </thead>\n",
              "  <tbody>\n",
              "    <tr>\n",
              "      <th>0</th>\n",
              "      <td>2015-01-01 00:00:00+01:00</td>\n",
              "      <td>25385.0</td>\n",
              "      <td>65.41</td>\n",
              "    </tr>\n",
              "    <tr>\n",
              "      <th>1</th>\n",
              "      <td>2015-01-01 01:00:00+01:00</td>\n",
              "      <td>24382.0</td>\n",
              "      <td>64.92</td>\n",
              "    </tr>\n",
              "    <tr>\n",
              "      <th>2</th>\n",
              "      <td>2015-01-01 02:00:00+01:00</td>\n",
              "      <td>22734.0</td>\n",
              "      <td>64.48</td>\n",
              "    </tr>\n",
              "    <tr>\n",
              "      <th>3</th>\n",
              "      <td>2015-01-01 03:00:00+01:00</td>\n",
              "      <td>21286.0</td>\n",
              "      <td>59.32</td>\n",
              "    </tr>\n",
              "    <tr>\n",
              "      <th>4</th>\n",
              "      <td>2015-01-01 04:00:00+01:00</td>\n",
              "      <td>20264.0</td>\n",
              "      <td>56.04</td>\n",
              "    </tr>\n",
              "  </tbody>\n",
              "</table>\n",
              "</div>"
            ],
            "text/plain": [
              "                        time  total load actual  price actual\n",
              "0  2015-01-01 00:00:00+01:00            25385.0         65.41\n",
              "1  2015-01-01 01:00:00+01:00            24382.0         64.92\n",
              "2  2015-01-01 02:00:00+01:00            22734.0         64.48\n",
              "3  2015-01-01 03:00:00+01:00            21286.0         59.32\n",
              "4  2015-01-01 04:00:00+01:00            20264.0         56.04"
            ]
          },
          "metadata": {},
          "execution_count": 6
        }
      ]
    },
    {
      "cell_type": "code",
      "metadata": {
        "id": "iagyszF8Wsf3",
        "colab": {
          "base_uri": "https://localhost:8080/"
        },
        "outputId": "49322153-bc86-480f-c65b-2d6da8c00e31"
      },
      "source": [
        "print(len(we))\n",
        "print(len(ener))"
      ],
      "execution_count": null,
      "outputs": [
        {
          "output_type": "stream",
          "name": "stdout",
          "text": [
            "178396\n",
            "8761\n"
          ]
        }
      ]
    },
    {
      "cell_type": "markdown",
      "metadata": {
        "id": "lj9-JZZ4aZUm"
      },
      "source": [
        "Drop Null Value"
      ]
    },
    {
      "cell_type": "code",
      "metadata": {
        "id": "wD_Qh7a0YA2x",
        "colab": {
          "base_uri": "https://localhost:8080/"
        },
        "outputId": "466564dd-0eec-4ed7-c906-826c8673d559"
      },
      "source": [
        "ener = ener.dropna()\n",
        "print(len(ener))"
      ],
      "execution_count": null,
      "outputs": [
        {
          "output_type": "stream",
          "name": "stdout",
          "text": [
            "8734\n"
          ]
        }
      ]
    },
    {
      "cell_type": "markdown",
      "metadata": {
        "id": "CCvmCxklM0r-"
      },
      "source": [
        "**Checking the variance of city**"
      ]
    },
    {
      "cell_type": "code",
      "metadata": {
        "id": "W0UAeIDiL-Ts",
        "colab": {
          "base_uri": "https://localhost:8080/"
        },
        "outputId": "35989356-3632-4eb6-af0d-9f31f43e7a09"
      },
      "source": [
        "we.city_name.unique()"
      ],
      "execution_count": null,
      "outputs": [
        {
          "output_type": "execute_result",
          "data": {
            "text/plain": [
              "array(['Majapahit', 'Kutai', 'Sriwijaya', ' Batavia', 'Pajajaran'],\n",
              "      dtype=object)"
            ]
          },
          "metadata": {},
          "execution_count": 9
        }
      ]
    },
    {
      "cell_type": "markdown",
      "metadata": {
        "id": "MbT3RDtbM59Y"
      },
      "source": [
        "**It shown that the weather data is larger than the energy because the weather data is consist of 5 city, only majapahit used for this experiment**"
      ]
    },
    {
      "cell_type": "code",
      "metadata": {
        "id": "13TpjxehXIvq",
        "colab": {
          "base_uri": "https://localhost:8080/",
          "height": 206
        },
        "outputId": "d29d0b7f-aa1e-43fa-8953-18d3d9f3d751"
      },
      "source": [
        "citime = ener.iloc[0:, 0:1]\n",
        "citime.head()"
      ],
      "execution_count": null,
      "outputs": [
        {
          "output_type": "execute_result",
          "data": {
            "text/html": [
              "<div>\n",
              "<style scoped>\n",
              "    .dataframe tbody tr th:only-of-type {\n",
              "        vertical-align: middle;\n",
              "    }\n",
              "\n",
              "    .dataframe tbody tr th {\n",
              "        vertical-align: top;\n",
              "    }\n",
              "\n",
              "    .dataframe thead th {\n",
              "        text-align: right;\n",
              "    }\n",
              "</style>\n",
              "<table border=\"1\" class=\"dataframe\">\n",
              "  <thead>\n",
              "    <tr style=\"text-align: right;\">\n",
              "      <th></th>\n",
              "      <th>time</th>\n",
              "    </tr>\n",
              "  </thead>\n",
              "  <tbody>\n",
              "    <tr>\n",
              "      <th>0</th>\n",
              "      <td>2015-01-01 00:00:00+01:00</td>\n",
              "    </tr>\n",
              "    <tr>\n",
              "      <th>1</th>\n",
              "      <td>2015-01-01 01:00:00+01:00</td>\n",
              "    </tr>\n",
              "    <tr>\n",
              "      <th>2</th>\n",
              "      <td>2015-01-01 02:00:00+01:00</td>\n",
              "    </tr>\n",
              "    <tr>\n",
              "      <th>3</th>\n",
              "      <td>2015-01-01 03:00:00+01:00</td>\n",
              "    </tr>\n",
              "    <tr>\n",
              "      <th>4</th>\n",
              "      <td>2015-01-01 04:00:00+01:00</td>\n",
              "    </tr>\n",
              "  </tbody>\n",
              "</table>\n",
              "</div>"
            ],
            "text/plain": [
              "                        time\n",
              "0  2015-01-01 00:00:00+01:00\n",
              "1  2015-01-01 01:00:00+01:00\n",
              "2  2015-01-01 02:00:00+01:00\n",
              "3  2015-01-01 03:00:00+01:00\n",
              "4  2015-01-01 04:00:00+01:00"
            ]
          },
          "metadata": {},
          "execution_count": 10
        }
      ]
    },
    {
      "cell_type": "markdown",
      "metadata": {
        "id": "LNjTkGCiafaV"
      },
      "source": [
        "Creating the data frame that only store the time of the energy because we want to make the majapahit dataset by joining it base on the time (because the length is different)"
      ]
    },
    {
      "cell_type": "code",
      "metadata": {
        "id": "JUu7sosG6dLk",
        "colab": {
          "base_uri": "https://localhost:8080/"
        },
        "outputId": "44d5c05b-000f-4e21-c64e-13d3ee32c376"
      },
      "source": [
        "print(len(citime))"
      ],
      "execution_count": null,
      "outputs": [
        {
          "output_type": "stream",
          "name": "stdout",
          "text": [
            "8734\n"
          ]
        }
      ]
    },
    {
      "cell_type": "markdown",
      "metadata": {
        "id": "_FoQ5O8A8jBo"
      },
      "source": [
        "**Creating Majapahit Dataset**\n",
        "\n",
        "\n"
      ]
    },
    {
      "cell_type": "code",
      "metadata": {
        "id": "USaxhBVXG0kA",
        "colab": {
          "base_uri": "https://localhost:8080/",
          "height": 206
        },
        "outputId": "f8845cf5-8ee5-46bf-bcfe-3e4de6d6ddfa"
      },
      "source": [
        "majapahit = we[we[\"city_name\"]==\"Majapahit\"]\n",
        "majapahit.head()"
      ],
      "execution_count": null,
      "outputs": [
        {
          "output_type": "execute_result",
          "data": {
            "text/html": [
              "<div>\n",
              "<style scoped>\n",
              "    .dataframe tbody tr th:only-of-type {\n",
              "        vertical-align: middle;\n",
              "    }\n",
              "\n",
              "    .dataframe tbody tr th {\n",
              "        vertical-align: top;\n",
              "    }\n",
              "\n",
              "    .dataframe thead th {\n",
              "        text-align: right;\n",
              "    }\n",
              "</style>\n",
              "<table border=\"1\" class=\"dataframe\">\n",
              "  <thead>\n",
              "    <tr style=\"text-align: right;\">\n",
              "      <th></th>\n",
              "      <th>time</th>\n",
              "      <th>city_name</th>\n",
              "      <th>temp (K)</th>\n",
              "      <th>pressure</th>\n",
              "      <th>humidity</th>\n",
              "      <th>wind_speed</th>\n",
              "      <th>wind_deg</th>\n",
              "      <th>rain_1h</th>\n",
              "      <th>rain_3h</th>\n",
              "    </tr>\n",
              "  </thead>\n",
              "  <tbody>\n",
              "    <tr>\n",
              "      <th>0</th>\n",
              "      <td>2015-01-01 00:00:00+01:00</td>\n",
              "      <td>Majapahit</td>\n",
              "      <td>270.475</td>\n",
              "      <td>1001</td>\n",
              "      <td>77</td>\n",
              "      <td>1</td>\n",
              "      <td>62</td>\n",
              "      <td>0.0</td>\n",
              "      <td>0.0</td>\n",
              "    </tr>\n",
              "    <tr>\n",
              "      <th>1</th>\n",
              "      <td>2015-01-01 01:00:00+01:00</td>\n",
              "      <td>Majapahit</td>\n",
              "      <td>270.475</td>\n",
              "      <td>1001</td>\n",
              "      <td>77</td>\n",
              "      <td>1</td>\n",
              "      <td>62</td>\n",
              "      <td>0.0</td>\n",
              "      <td>0.0</td>\n",
              "    </tr>\n",
              "    <tr>\n",
              "      <th>2</th>\n",
              "      <td>2015-01-01 02:00:00+01:00</td>\n",
              "      <td>Majapahit</td>\n",
              "      <td>269.686</td>\n",
              "      <td>1002</td>\n",
              "      <td>78</td>\n",
              "      <td>0</td>\n",
              "      <td>23</td>\n",
              "      <td>0.0</td>\n",
              "      <td>0.0</td>\n",
              "    </tr>\n",
              "    <tr>\n",
              "      <th>3</th>\n",
              "      <td>2015-01-01 03:00:00+01:00</td>\n",
              "      <td>Majapahit</td>\n",
              "      <td>269.686</td>\n",
              "      <td>1002</td>\n",
              "      <td>78</td>\n",
              "      <td>0</td>\n",
              "      <td>23</td>\n",
              "      <td>0.0</td>\n",
              "      <td>0.0</td>\n",
              "    </tr>\n",
              "    <tr>\n",
              "      <th>4</th>\n",
              "      <td>2015-01-01 04:00:00+01:00</td>\n",
              "      <td>Majapahit</td>\n",
              "      <td>269.686</td>\n",
              "      <td>1002</td>\n",
              "      <td>78</td>\n",
              "      <td>0</td>\n",
              "      <td>23</td>\n",
              "      <td>0.0</td>\n",
              "      <td>0.0</td>\n",
              "    </tr>\n",
              "  </tbody>\n",
              "</table>\n",
              "</div>"
            ],
            "text/plain": [
              "                        time  city_name  temp (K)  ...  wind_deg  rain_1h  rain_3h\n",
              "0  2015-01-01 00:00:00+01:00  Majapahit   270.475  ...        62      0.0      0.0\n",
              "1  2015-01-01 01:00:00+01:00  Majapahit   270.475  ...        62      0.0      0.0\n",
              "2  2015-01-01 02:00:00+01:00  Majapahit   269.686  ...        23      0.0      0.0\n",
              "3  2015-01-01 03:00:00+01:00  Majapahit   269.686  ...        23      0.0      0.0\n",
              "4  2015-01-01 04:00:00+01:00  Majapahit   269.686  ...        23      0.0      0.0\n",
              "\n",
              "[5 rows x 9 columns]"
            ]
          },
          "metadata": {},
          "execution_count": 12
        }
      ]
    },
    {
      "cell_type": "code",
      "metadata": {
        "id": "p_9lU6roT_dw",
        "colab": {
          "base_uri": "https://localhost:8080/"
        },
        "outputId": "06baf637-5fdb-49e9-b4ce-eeb7bc765e11"
      },
      "source": [
        "print(len(majapahit))\n",
        "print(len(citime))"
      ],
      "execution_count": null,
      "outputs": [
        {
          "output_type": "stream",
          "name": "stdout",
          "text": [
            "35145\n",
            "8734\n"
          ]
        }
      ]
    },
    {
      "cell_type": "markdown",
      "metadata": {
        "id": "Bxi0m3OxaIB7"
      },
      "source": [
        "Drop the duplicate"
      ]
    },
    {
      "cell_type": "code",
      "metadata": {
        "id": "_w5BCJhR7Low",
        "colab": {
          "base_uri": "https://localhost:8080/"
        },
        "outputId": "d8554d4a-fa44-4d4b-9b5f-66a93c0d858c"
      },
      "source": [
        "majapahit = majapahit.drop_duplicates()\n",
        "print(len(majapahit))"
      ],
      "execution_count": null,
      "outputs": [
        {
          "output_type": "stream",
          "name": "stdout",
          "text": [
            "35064\n"
          ]
        }
      ]
    },
    {
      "cell_type": "code",
      "metadata": {
        "id": "pe39n0seNWr0",
        "colab": {
          "base_uri": "https://localhost:8080/",
          "height": 206
        },
        "outputId": "fef775ec-bf11-4308-c8c8-fc4c5b8cae71"
      },
      "source": [
        "majapahitFix = pd.merge(citime , majapahit , on=['time'])\n",
        "majapahitFix.head()"
      ],
      "execution_count": null,
      "outputs": [
        {
          "output_type": "execute_result",
          "data": {
            "text/html": [
              "<div>\n",
              "<style scoped>\n",
              "    .dataframe tbody tr th:only-of-type {\n",
              "        vertical-align: middle;\n",
              "    }\n",
              "\n",
              "    .dataframe tbody tr th {\n",
              "        vertical-align: top;\n",
              "    }\n",
              "\n",
              "    .dataframe thead th {\n",
              "        text-align: right;\n",
              "    }\n",
              "</style>\n",
              "<table border=\"1\" class=\"dataframe\">\n",
              "  <thead>\n",
              "    <tr style=\"text-align: right;\">\n",
              "      <th></th>\n",
              "      <th>time</th>\n",
              "      <th>city_name</th>\n",
              "      <th>temp (K)</th>\n",
              "      <th>pressure</th>\n",
              "      <th>humidity</th>\n",
              "      <th>wind_speed</th>\n",
              "      <th>wind_deg</th>\n",
              "      <th>rain_1h</th>\n",
              "      <th>rain_3h</th>\n",
              "    </tr>\n",
              "  </thead>\n",
              "  <tbody>\n",
              "    <tr>\n",
              "      <th>0</th>\n",
              "      <td>2015-01-01 00:00:00+01:00</td>\n",
              "      <td>Majapahit</td>\n",
              "      <td>270.475</td>\n",
              "      <td>1001</td>\n",
              "      <td>77</td>\n",
              "      <td>1</td>\n",
              "      <td>62</td>\n",
              "      <td>0.0</td>\n",
              "      <td>0.0</td>\n",
              "    </tr>\n",
              "    <tr>\n",
              "      <th>1</th>\n",
              "      <td>2015-01-01 01:00:00+01:00</td>\n",
              "      <td>Majapahit</td>\n",
              "      <td>270.475</td>\n",
              "      <td>1001</td>\n",
              "      <td>77</td>\n",
              "      <td>1</td>\n",
              "      <td>62</td>\n",
              "      <td>0.0</td>\n",
              "      <td>0.0</td>\n",
              "    </tr>\n",
              "    <tr>\n",
              "      <th>2</th>\n",
              "      <td>2015-01-01 02:00:00+01:00</td>\n",
              "      <td>Majapahit</td>\n",
              "      <td>269.686</td>\n",
              "      <td>1002</td>\n",
              "      <td>78</td>\n",
              "      <td>0</td>\n",
              "      <td>23</td>\n",
              "      <td>0.0</td>\n",
              "      <td>0.0</td>\n",
              "    </tr>\n",
              "    <tr>\n",
              "      <th>3</th>\n",
              "      <td>2015-01-01 03:00:00+01:00</td>\n",
              "      <td>Majapahit</td>\n",
              "      <td>269.686</td>\n",
              "      <td>1002</td>\n",
              "      <td>78</td>\n",
              "      <td>0</td>\n",
              "      <td>23</td>\n",
              "      <td>0.0</td>\n",
              "      <td>0.0</td>\n",
              "    </tr>\n",
              "    <tr>\n",
              "      <th>4</th>\n",
              "      <td>2015-01-01 04:00:00+01:00</td>\n",
              "      <td>Majapahit</td>\n",
              "      <td>269.686</td>\n",
              "      <td>1002</td>\n",
              "      <td>78</td>\n",
              "      <td>0</td>\n",
              "      <td>23</td>\n",
              "      <td>0.0</td>\n",
              "      <td>0.0</td>\n",
              "    </tr>\n",
              "  </tbody>\n",
              "</table>\n",
              "</div>"
            ],
            "text/plain": [
              "                        time  city_name  temp (K)  ...  wind_deg  rain_1h  rain_3h\n",
              "0  2015-01-01 00:00:00+01:00  Majapahit   270.475  ...        62      0.0      0.0\n",
              "1  2015-01-01 01:00:00+01:00  Majapahit   270.475  ...        62      0.0      0.0\n",
              "2  2015-01-01 02:00:00+01:00  Majapahit   269.686  ...        23      0.0      0.0\n",
              "3  2015-01-01 03:00:00+01:00  Majapahit   269.686  ...        23      0.0      0.0\n",
              "4  2015-01-01 04:00:00+01:00  Majapahit   269.686  ...        23      0.0      0.0\n",
              "\n",
              "[5 rows x 9 columns]"
            ]
          },
          "metadata": {},
          "execution_count": 15
        }
      ]
    },
    {
      "cell_type": "code",
      "metadata": {
        "id": "rgGJxZU-VS-S",
        "colab": {
          "base_uri": "https://localhost:8080/"
        },
        "outputId": "1d03ae3c-f768-4fe2-89b2-17adce9b3329"
      },
      "source": [
        "print(len(majapahitFix))"
      ],
      "execution_count": null,
      "outputs": [
        {
          "output_type": "stream",
          "name": "stdout",
          "text": [
            "8734\n"
          ]
        }
      ]
    },
    {
      "cell_type": "code",
      "metadata": {
        "id": "gSwxmRuOWRgm"
      },
      "source": [
        "majapahitFix = majapahitFix.dropna()"
      ],
      "execution_count": null,
      "outputs": []
    },
    {
      "cell_type": "code",
      "metadata": {
        "id": "2DeO2gbYWpub",
        "colab": {
          "base_uri": "https://localhost:8080/"
        },
        "outputId": "dd6e88b8-75b4-4164-a980-a49c169fa89e"
      },
      "source": [
        "print(len(majapahitFix))"
      ],
      "execution_count": null,
      "outputs": [
        {
          "output_type": "stream",
          "name": "stdout",
          "text": [
            "8734\n"
          ]
        }
      ]
    },
    {
      "cell_type": "markdown",
      "metadata": {
        "id": "MTNn7WfGTZSU"
      },
      "source": [
        "#R2 Score"
      ]
    },
    {
      "cell_type": "code",
      "metadata": {
        "id": "fd4FCfz6CiFy",
        "colab": {
          "base_uri": "https://localhost:8080/",
          "height": 206
        },
        "outputId": "d0955c91-b030-4fc9-c71e-843e29dadbd7"
      },
      "source": [
        "load = ener.loc[0:, ['total load actual'] ]\n",
        "load.head()"
      ],
      "execution_count": null,
      "outputs": [
        {
          "output_type": "execute_result",
          "data": {
            "text/html": [
              "<div>\n",
              "<style scoped>\n",
              "    .dataframe tbody tr th:only-of-type {\n",
              "        vertical-align: middle;\n",
              "    }\n",
              "\n",
              "    .dataframe tbody tr th {\n",
              "        vertical-align: top;\n",
              "    }\n",
              "\n",
              "    .dataframe thead th {\n",
              "        text-align: right;\n",
              "    }\n",
              "</style>\n",
              "<table border=\"1\" class=\"dataframe\">\n",
              "  <thead>\n",
              "    <tr style=\"text-align: right;\">\n",
              "      <th></th>\n",
              "      <th>total load actual</th>\n",
              "    </tr>\n",
              "  </thead>\n",
              "  <tbody>\n",
              "    <tr>\n",
              "      <th>0</th>\n",
              "      <td>25385.0</td>\n",
              "    </tr>\n",
              "    <tr>\n",
              "      <th>1</th>\n",
              "      <td>24382.0</td>\n",
              "    </tr>\n",
              "    <tr>\n",
              "      <th>2</th>\n",
              "      <td>22734.0</td>\n",
              "    </tr>\n",
              "    <tr>\n",
              "      <th>3</th>\n",
              "      <td>21286.0</td>\n",
              "    </tr>\n",
              "    <tr>\n",
              "      <th>4</th>\n",
              "      <td>20264.0</td>\n",
              "    </tr>\n",
              "  </tbody>\n",
              "</table>\n",
              "</div>"
            ],
            "text/plain": [
              "   total load actual\n",
              "0            25385.0\n",
              "1            24382.0\n",
              "2            22734.0\n",
              "3            21286.0\n",
              "4            20264.0"
            ]
          },
          "metadata": {},
          "execution_count": 19
        }
      ]
    },
    {
      "cell_type": "markdown",
      "metadata": {
        "id": "LvwBaPQ2EPFw"
      },
      "source": [
        "**1. Majapahit**"
      ]
    },
    {
      "cell_type": "code",
      "metadata": {
        "id": "K6Aspv8tBJDI"
      },
      "source": [
        "majapahitTemp = majapahitFix.loc[0:, ['temp (K)'] ]\n",
        "majapahitWind = majapahitFix.loc[0:, ['wind_speed'] ]"
      ],
      "execution_count": null,
      "outputs": []
    },
    {
      "cell_type": "markdown",
      "metadata": {
        "id": "1Pih7HnTY_tj"
      },
      "source": [
        "Correlation Coefficient between Temperature and total load actual"
      ]
    },
    {
      "cell_type": "code",
      "metadata": {
        "id": "4w8CtJ2yCaPs",
        "colab": {
          "base_uri": "https://localhost:8080/"
        },
        "outputId": "a7a12149-3562-4872-a1d4-88468003052c"
      },
      "source": [
        "r2_score(majapahitTemp, load)"
      ],
      "execution_count": null,
      "outputs": [
        {
          "output_type": "execute_result",
          "data": {
            "text/plain": [
              "-13887354.064046357"
            ]
          },
          "metadata": {},
          "execution_count": 21
        }
      ]
    },
    {
      "cell_type": "code",
      "metadata": {
        "id": "B_0vwe1xDyMj",
        "colab": {
          "base_uri": "https://localhost:8080/",
          "height": 282
        },
        "outputId": "99d74e57-ef12-4c14-dc48-4aa43c586801"
      },
      "source": [
        "plt.scatter(majapahitTemp, load)"
      ],
      "execution_count": null,
      "outputs": [
        {
          "output_type": "execute_result",
          "data": {
            "text/plain": [
              "<matplotlib.collections.PathCollection at 0x7f905c1cd390>"
            ]
          },
          "metadata": {},
          "execution_count": 22
        },
        {
          "output_type": "display_data",
          "data": {
            "image/png": "[encoded data removed]",
            "text/plain": [
              "<Figure size 432x288 with 1 Axes>"
            ]
          },
          "metadata": {
            "needs_background": "light"
          }
        }
      ]
    },
    {
      "cell_type": "markdown",
      "metadata": {
        "id": "AMmktsvGZPz9"
      },
      "source": [
        "Correlation Coefficient between Temperature and total load actual"
      ]
    },
    {
      "cell_type": "code",
      "metadata": {
        "id": "wOMSRK4AEUtH",
        "colab": {
          "base_uri": "https://localhost:8080/"
        },
        "outputId": "7e903f45-c2f3-42f0-e378-0ce853e9496f"
      },
      "source": [
        "r2_score(majapahitWind, load)"
      ],
      "execution_count": null,
      "outputs": [
        {
          "output_type": "execute_result",
          "data": {
            "text/plain": [
              "-87630618.17620079"
            ]
          },
          "metadata": {},
          "execution_count": 23
        }
      ]
    },
    {
      "cell_type": "code",
      "metadata": {
        "id": "TPhK3XRWErrO",
        "colab": {
          "base_uri": "https://localhost:8080/",
          "height": 282
        },
        "outputId": "15110786-bfe8-45d1-e16b-fb582c482f8d"
      },
      "source": [
        "plt.scatter(majapahitWind, load)"
      ],
      "execution_count": null,
      "outputs": [
        {
          "output_type": "execute_result",
          "data": {
            "text/plain": [
              "<matplotlib.collections.PathCollection at 0x7f9061c992d0>"
            ]
          },
          "metadata": {},
          "execution_count": 24
        },
        {
          "output_type": "display_data",
          "data": {
            "image/png": "[encoded data removed]",
            "text/plain": [
              "<Figure size 432x288 with 1 Axes>"
            ]
          },
          "metadata": {
            "needs_background": "light"
          }
        }
      ]
    },
    {
      "cell_type": "markdown",
      "metadata": {
        "id": "Gq5dtktzAURF"
      },
      "source": [
        "relation between 3"
      ]
    },
    {
      "cell_type": "code",
      "metadata": {
        "id": "q25corbREM-W",
        "colab": {
          "base_uri": "https://localhost:8080/",
          "height": 357
        },
        "outputId": "e0e19214-67bc-421f-acc3-2ca4237c4b7c"
      },
      "source": [
        "fig = plt.figure(figsize=(6, 6))\n",
        "ax = fig.add_subplot(111, projection='3d')\n",
        "ax.scatter(majapahitTemp, majapahitWind, load,\n",
        "           linewidths=1, alpha=.7,\n",
        "           edgecolor='k',\n",
        "           s = 200,\n",
        "           c=load)\n",
        "plt.show()"
      ],
      "execution_count": null,
      "outputs": [
        {
          "output_type": "display_data",
          "data": {
            "image/png": "[encoded data removed]",
            "text/plain": [
              "<Figure size 432x432 with 1 Axes>"
            ]
          },
          "metadata": {
            "needs_background": "light"
          }
        }
      ]
    },
    {
      "cell_type": "code",
      "metadata": {
        "id": "mo_a_NqLi-Sn",
        "colab": {
          "base_uri": "https://localhost:8080/",
          "height": 206
        },
        "outputId": "508fe420-0832-4f27-adc4-9c487e811a88"
      },
      "source": [
        "frames = [majapahitTemp, majapahitWind]\n",
        "result = pd.concat(frames, axis=1, join=\"inner\")\n",
        "result.head()"
      ],
      "execution_count": null,
      "outputs": [
        {
          "output_type": "execute_result",
          "data": {
            "text/html": [
              "<div>\n",
              "<style scoped>\n",
              "    .dataframe tbody tr th:only-of-type {\n",
              "        vertical-align: middle;\n",
              "    }\n",
              "\n",
              "    .dataframe tbody tr th {\n",
              "        vertical-align: top;\n",
              "    }\n",
              "\n",
              "    .dataframe thead th {\n",
              "        text-align: right;\n",
              "    }\n",
              "</style>\n",
              "<table border=\"1\" class=\"dataframe\">\n",
              "  <thead>\n",
              "    <tr style=\"text-align: right;\">\n",
              "      <th></th>\n",
              "      <th>temp (K)</th>\n",
              "      <th>wind_speed</th>\n",
              "    </tr>\n",
              "  </thead>\n",
              "  <tbody>\n",
              "    <tr>\n",
              "      <th>0</th>\n",
              "      <td>270.475</td>\n",
              "      <td>1</td>\n",
              "    </tr>\n",
              "    <tr>\n",
              "      <th>1</th>\n",
              "      <td>270.475</td>\n",
              "      <td>1</td>\n",
              "    </tr>\n",
              "    <tr>\n",
              "      <th>2</th>\n",
              "      <td>269.686</td>\n",
              "      <td>0</td>\n",
              "    </tr>\n",
              "    <tr>\n",
              "      <th>3</th>\n",
              "      <td>269.686</td>\n",
              "      <td>0</td>\n",
              "    </tr>\n",
              "    <tr>\n",
              "      <th>4</th>\n",
              "      <td>269.686</td>\n",
              "      <td>0</td>\n",
              "    </tr>\n",
              "  </tbody>\n",
              "</table>\n",
              "</div>"
            ],
            "text/plain": [
              "   temp (K)  wind_speed\n",
              "0   270.475           1\n",
              "1   270.475           1\n",
              "2   269.686           0\n",
              "3   269.686           0\n",
              "4   269.686           0"
            ]
          },
          "metadata": {},
          "execution_count": 26
        }
      ]
    },
    {
      "cell_type": "code",
      "metadata": {
        "id": "dpIYxLvd-K9b"
      },
      "source": [
        "z_scores = stats.zscore(result)\n",
        "\n",
        "abs_z_scores = np.abs(z_scores)\n",
        "filtered_entries = (abs_z_scores < 3).all(axis=1)\n",
        "maja = result[filtered_entries]"
      ],
      "execution_count": null,
      "outputs": []
    },
    {
      "cell_type": "markdown",
      "metadata": {
        "id": "8zKppGnBdwOj"
      },
      "source": [
        "#Least Square Method\n"
      ]
    },
    {
      "cell_type": "markdown",
      "metadata": {
        "id": "eCxOI67wB97y"
      },
      "source": [
        "**Temperature and Load**"
      ]
    },
    {
      "cell_type": "code",
      "metadata": {
        "id": "sIkdDkZLdmTV",
        "colab": {
          "base_uri": "https://localhost:8080/",
          "height": 282
        },
        "outputId": "825e144f-d6bc-4ae4-b098-1d0ead23ae2b"
      },
      "source": [
        "plt.scatter(majapahitTemp, load)"
      ],
      "execution_count": null,
      "outputs": [
        {
          "output_type": "execute_result",
          "data": {
            "text/plain": [
              "<matplotlib.collections.PathCollection at 0x7f905d175a50>"
            ]
          },
          "metadata": {},
          "execution_count": 28
        },
        {
          "output_type": "display_data",
          "data": {
            "image/png": "[encoded data removed]",
            "text/plain": [
              "<Figure size 432x288 with 1 Axes>"
            ]
          },
          "metadata": {
            "needs_background": "light"
          }
        }
      ]
    },
    {
      "cell_type": "code",
      "metadata": {
        "id": "LOfrtDTxjEUG"
      },
      "source": [
        "xT = majapahitTemp['temp (K)'].tolist()\n",
        "yT = load['total load actual'].tolist()\n",
        "XT_mean = np.mean(xT)\n",
        "YT_mean = np.mean(yT)"
      ],
      "execution_count": null,
      "outputs": []
    },
    {
      "cell_type": "code",
      "metadata": {
        "id": "XfXRDVzSCvRw",
        "colab": {
          "base_uri": "https://localhost:8080/"
        },
        "outputId": "afff2c3c-f219-414a-9893-c86e5158b1ff"
      },
      "source": [
        "numT = 0\n",
        "denT = 0\n",
        "for i in range(0, len(xT)):\n",
        "    numT += (xT[i] - XT_mean)*(yT[i] - YT_mean)\n",
        "    denT += (xT[i] - XT_mean)**2\n",
        "\n",
        "mT = numT / denT\n",
        "cT = YT_mean - mT*XT_mean\n",
        "\n",
        "print (mT, cT)"
      ],
      "execution_count": null,
      "outputs": [
        {
          "output_type": "stream",
          "name": "stdout",
          "text": [
            "156.57962888177258 -17058.60414907688\n"
          ]
        }
      ]
    },
    {
      "cell_type": "code",
      "metadata": {
        "id": "DckNMgPbGni7"
      },
      "source": [
        "YT_pred = []\n",
        "\n",
        "for i in range(0, len(xT)):\n",
        "  YT_pred.append(mT*xT[i]+cT)"
      ],
      "execution_count": null,
      "outputs": []
    },
    {
      "cell_type": "code",
      "metadata": {
        "id": "6eBy7iNlE14f",
        "colab": {
          "base_uri": "https://localhost:8080/",
          "height": 265
        },
        "outputId": "6536c3ee-8e41-4599-ff74-da8434148722"
      },
      "source": [
        "plt.scatter(xT, yT) # actual\n",
        "plt.scatter(xT, YT_pred, color='red')\n",
        "plt.plot([min(xT), max(xT)], [min(YT_pred), max(YT_pred)], color='red') # predicted\n",
        "plt.show()"
      ],
      "execution_count": null,
      "outputs": [
        {
          "output_type": "display_data",
          "data": {
            "image/png": "[encoded data removed]",
            "text/plain": [
              "<Figure size 432x288 with 1 Axes>"
            ]
          },
          "metadata": {
            "needs_background": "light"
          }
        }
      ]
    },
    {
      "cell_type": "markdown",
      "metadata": {
        "id": "irPNcEdyJcTJ"
      },
      "source": [
        "Mean Square Error"
      ]
    },
    {
      "cell_type": "code",
      "metadata": {
        "id": "jNWY3QpMJbH8",
        "colab": {
          "base_uri": "https://localhost:8080/"
        },
        "outputId": "c0700a59-adf9-4a02-cf45-db742e834c2e"
      },
      "source": [
        "mean_squared_error(load, YT_pred)"
      ],
      "execution_count": null,
      "outputs": [
        {
          "output_type": "execute_result",
          "data": {
            "text/plain": [
              "20161531.681606982"
            ]
          },
          "metadata": {},
          "execution_count": 34
        }
      ]
    },
    {
      "cell_type": "markdown",
      "metadata": {
        "id": "BZQWhgWAK1mb"
      },
      "source": [
        "R-Squared"
      ]
    },
    {
      "cell_type": "code",
      "metadata": {
        "id": "9pyIi_EXK4OZ",
        "colab": {
          "base_uri": "https://localhost:8080/"
        },
        "outputId": "0a05f6a2-99cd-4438-9c90-56fa8323d440"
      },
      "source": [
        "r2_score(load, YT_pred)"
      ],
      "execution_count": null,
      "outputs": [
        {
          "output_type": "execute_result",
          "data": {
            "text/plain": [
              "0.0661831696072821"
            ]
          },
          "metadata": {},
          "execution_count": 35
        }
      ]
    },
    {
      "cell_type": "markdown",
      "metadata": {
        "id": "5LDapKTVFLre"
      },
      "source": [
        "**Wind Speed and Load**"
      ]
    },
    {
      "cell_type": "code",
      "metadata": {
        "id": "olHmwm7UHFzj"
      },
      "source": [
        "xW = majapahitWind['wind_speed'].tolist()\n",
        "yW = load['total load actual'].tolist()\n",
        "XW_mean = np.mean(xW)\n",
        "YW_mean = np.mean(yW)"
      ],
      "execution_count": null,
      "outputs": []
    },
    {
      "cell_type": "code",
      "metadata": {
        "id": "_jpTe3wKHXMR",
        "colab": {
          "base_uri": "https://localhost:8080/"
        },
        "outputId": "50a241fc-39b7-4b30-84c2-b291797143b3"
      },
      "source": [
        "numW = 0\n",
        "denW = 0\n",
        "for i in range(0, len(xW)):\n",
        "    numW += (xW[i] - XW_mean)*(yW[i] - YW_mean)\n",
        "    denW += (xW[i] - XW_mean)**2\n",
        "\n",
        "mW = numW / denW\n",
        "cW = YW_mean - mW*XW_mean\n",
        "\n",
        "print (mW, cW)"
      ],
      "execution_count": null,
      "outputs": [
        {
          "output_type": "stream",
          "name": "stdout",
          "text": [
            "278.93967462029644 27616.61526162026\n"
          ]
        }
      ]
    },
    {
      "cell_type": "code",
      "metadata": {
        "id": "VJPJlc1THe_U"
      },
      "source": [
        "YW_pred = []\n",
        "\n",
        "for i in range(0, len(xW)):\n",
        "  YW_pred.append(mW*xW[i]+cW)"
      ],
      "execution_count": null,
      "outputs": []
    },
    {
      "cell_type": "code",
      "metadata": {
        "id": "gW4bG26YHiFP",
        "colab": {
          "base_uri": "https://localhost:8080/",
          "height": 265
        },
        "outputId": "a733c48a-c3fa-4495-aeaa-9c201f350dcc"
      },
      "source": [
        "plt.scatter(xW, yW) # actual\n",
        "plt.scatter(xW, YW_pred, color='red')\n",
        "plt.plot([min(xW), max(xW)], [min(YW_pred), max(YW_pred)], color='red') # predicted\n",
        "plt.show()"
      ],
      "execution_count": null,
      "outputs": [
        {
          "output_type": "display_data",
          "data": {
            "image/png": "[encoded data removed]",
            "text/plain": [
              "<Figure size 432x288 with 1 Axes>"
            ]
          },
          "metadata": {
            "needs_background": "light"
          }
        }
      ]
    },
    {
      "cell_type": "markdown",
      "metadata": {
        "id": "z0IgMDDxMGRT"
      },
      "source": [
        "Mean Square Error"
      ]
    },
    {
      "cell_type": "code",
      "metadata": {
        "id": "qQi4FHQjMJR0",
        "colab": {
          "base_uri": "https://localhost:8080/"
        },
        "outputId": "706cfd01-6bdd-4c10-d260-1c4a737f9bf0"
      },
      "source": [
        "mean_squared_error(load, YW_pred)"
      ],
      "execution_count": null,
      "outputs": [
        {
          "output_type": "execute_result",
          "data": {
            "text/plain": [
              "20857387.449996226"
            ]
          },
          "metadata": {},
          "execution_count": 40
        }
      ]
    },
    {
      "cell_type": "code",
      "metadata": {
        "id": "OWUSq3jpMN8d",
        "colab": {
          "base_uri": "https://localhost:8080/"
        },
        "outputId": "c68740ed-f6cf-4703-ff90-c0c11ff191e2"
      },
      "source": [
        "r2_score(load, YW_pred)"
      ],
      "execution_count": null,
      "outputs": [
        {
          "output_type": "execute_result",
          "data": {
            "text/plain": [
              "0.033953384772009154"
            ]
          },
          "metadata": {},
          "execution_count": 41
        }
      ]
    }
  ]
}